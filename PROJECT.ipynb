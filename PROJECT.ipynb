{
 "cells": [
  {
   "cell_type": "markdown",
   "id": "619b9e0e-2888-451d-b8f7-0e99299c8ed7",
   "metadata": {},
   "source": [
    "### Customer Behavior Analysis Project"
   ]
  },
  {
   "cell_type": "code",
   "execution_count": 1,
   "id": "bf76fcaf-03ad-423b-b8fc-e3d09ca3298e",
   "metadata": {},
   "outputs": [],
   "source": [
    "### import libraries\n",
    "import pandas as pd\n",
    "import pymysql"
   ]
  },
  {
   "cell_type": "markdown",
   "id": "84093115-1d73-459f-b3ec-08e53ab27626",
   "metadata": {},
   "source": [
    "### 1.pymysql connection"
   ]
  },
  {
   "cell_type": "code",
   "execution_count": 6,
   "id": "741098a1-9671-4d2e-b59d-01ebd61fc462",
   "metadata": {},
   "outputs": [],
   "source": [
    "### python-sql connection\n",
    "myconnection=pymysql.connect(host='127.0.0.1',user='root',port=3307,password='Nivetha@13')"
   ]
  },
  {
   "cell_type": "code",
   "execution_count": 8,
   "id": "47debf44-f3c8-485d-a942-4e6b45737277",
   "metadata": {},
   "outputs": [
    {
     "name": "stderr",
     "output_type": "stream",
     "text": [
      "C:\\Users\\DELL\\AppData\\Local\\Temp\\ipykernel_4564\\2262704626.py:3: UserWarning: pandas only supports SQLAlchemy connectable (engine/connection) or database string URI or sqlite3 DBAPI2 connection. Other DBAPI2 objects are not tested. Please consider using SQLAlchemy.\n",
      "  pd.read_sql_query(db,myconnection)\n"
     ]
    },
    {
     "ename": "DatabaseError",
     "evalue": "Execution failed on sql 'Create database Project_ShopEasy': (1007, \"Can't create database 'project_shopeasy'; database exists\")",
     "output_type": "error",
     "traceback": [
      "\u001b[1;31m---------------------------------------------------------------------------\u001b[0m",
      "\u001b[1;31mProgrammingError\u001b[0m                          Traceback (most recent call last)",
      "File \u001b[1;32m~\\anaconda3\\Lib\\site-packages\\pandas\\io\\sql.py:2674\u001b[0m, in \u001b[0;36mSQLiteDatabase.execute\u001b[1;34m(self, sql, params)\u001b[0m\n\u001b[0;32m   2673\u001b[0m \u001b[38;5;28;01mtry\u001b[39;00m:\n\u001b[1;32m-> 2674\u001b[0m     cur\u001b[38;5;241m.\u001b[39mexecute(sql, \u001b[38;5;241m*\u001b[39margs)\n\u001b[0;32m   2675\u001b[0m     \u001b[38;5;28;01mreturn\u001b[39;00m cur\n",
      "File \u001b[1;32m~\\anaconda3\\Lib\\site-packages\\pymysql\\cursors.py:153\u001b[0m, in \u001b[0;36mCursor.execute\u001b[1;34m(self, query, args)\u001b[0m\n\u001b[0;32m    151\u001b[0m query \u001b[38;5;241m=\u001b[39m \u001b[38;5;28mself\u001b[39m\u001b[38;5;241m.\u001b[39mmogrify(query, args)\n\u001b[1;32m--> 153\u001b[0m result \u001b[38;5;241m=\u001b[39m \u001b[38;5;28mself\u001b[39m\u001b[38;5;241m.\u001b[39m_query(query)\n\u001b[0;32m    154\u001b[0m \u001b[38;5;28mself\u001b[39m\u001b[38;5;241m.\u001b[39m_executed \u001b[38;5;241m=\u001b[39m query\n",
      "File \u001b[1;32m~\\anaconda3\\Lib\\site-packages\\pymysql\\cursors.py:322\u001b[0m, in \u001b[0;36mCursor._query\u001b[1;34m(self, q)\u001b[0m\n\u001b[0;32m    321\u001b[0m \u001b[38;5;28mself\u001b[39m\u001b[38;5;241m.\u001b[39m_clear_result()\n\u001b[1;32m--> 322\u001b[0m conn\u001b[38;5;241m.\u001b[39mquery(q)\n\u001b[0;32m    323\u001b[0m \u001b[38;5;28mself\u001b[39m\u001b[38;5;241m.\u001b[39m_do_get_result()\n",
      "File \u001b[1;32m~\\anaconda3\\Lib\\site-packages\\pymysql\\connections.py:563\u001b[0m, in \u001b[0;36mConnection.query\u001b[1;34m(self, sql, unbuffered)\u001b[0m\n\u001b[0;32m    562\u001b[0m \u001b[38;5;28mself\u001b[39m\u001b[38;5;241m.\u001b[39m_execute_command(COMMAND\u001b[38;5;241m.\u001b[39mCOM_QUERY, sql)\n\u001b[1;32m--> 563\u001b[0m \u001b[38;5;28mself\u001b[39m\u001b[38;5;241m.\u001b[39m_affected_rows \u001b[38;5;241m=\u001b[39m \u001b[38;5;28mself\u001b[39m\u001b[38;5;241m.\u001b[39m_read_query_result(unbuffered\u001b[38;5;241m=\u001b[39munbuffered)\n\u001b[0;32m    564\u001b[0m \u001b[38;5;28;01mreturn\u001b[39;00m \u001b[38;5;28mself\u001b[39m\u001b[38;5;241m.\u001b[39m_affected_rows\n",
      "File \u001b[1;32m~\\anaconda3\\Lib\\site-packages\\pymysql\\connections.py:825\u001b[0m, in \u001b[0;36mConnection._read_query_result\u001b[1;34m(self, unbuffered)\u001b[0m\n\u001b[0;32m    824\u001b[0m     result \u001b[38;5;241m=\u001b[39m MySQLResult(\u001b[38;5;28mself\u001b[39m)\n\u001b[1;32m--> 825\u001b[0m     result\u001b[38;5;241m.\u001b[39mread()\n\u001b[0;32m    826\u001b[0m \u001b[38;5;28mself\u001b[39m\u001b[38;5;241m.\u001b[39m_result \u001b[38;5;241m=\u001b[39m result\n",
      "File \u001b[1;32m~\\anaconda3\\Lib\\site-packages\\pymysql\\connections.py:1199\u001b[0m, in \u001b[0;36mMySQLResult.read\u001b[1;34m(self)\u001b[0m\n\u001b[0;32m   1198\u001b[0m \u001b[38;5;28;01mtry\u001b[39;00m:\n\u001b[1;32m-> 1199\u001b[0m     first_packet \u001b[38;5;241m=\u001b[39m \u001b[38;5;28mself\u001b[39m\u001b[38;5;241m.\u001b[39mconnection\u001b[38;5;241m.\u001b[39m_read_packet()\n\u001b[0;32m   1201\u001b[0m     \u001b[38;5;28;01mif\u001b[39;00m first_packet\u001b[38;5;241m.\u001b[39mis_ok_packet():\n",
      "File \u001b[1;32m~\\anaconda3\\Lib\\site-packages\\pymysql\\connections.py:775\u001b[0m, in \u001b[0;36mConnection._read_packet\u001b[1;34m(self, packet_type)\u001b[0m\n\u001b[0;32m    774\u001b[0m         \u001b[38;5;28mself\u001b[39m\u001b[38;5;241m.\u001b[39m_result\u001b[38;5;241m.\u001b[39munbuffered_active \u001b[38;5;241m=\u001b[39m \u001b[38;5;28;01mFalse\u001b[39;00m\n\u001b[1;32m--> 775\u001b[0m     packet\u001b[38;5;241m.\u001b[39mraise_for_error()\n\u001b[0;32m    776\u001b[0m \u001b[38;5;28;01mreturn\u001b[39;00m packet\n",
      "File \u001b[1;32m~\\anaconda3\\Lib\\site-packages\\pymysql\\protocol.py:219\u001b[0m, in \u001b[0;36mMysqlPacket.raise_for_error\u001b[1;34m(self)\u001b[0m\n\u001b[0;32m    218\u001b[0m     \u001b[38;5;28mprint\u001b[39m(\u001b[38;5;124m\"\u001b[39m\u001b[38;5;124merrno =\u001b[39m\u001b[38;5;124m\"\u001b[39m, errno)\n\u001b[1;32m--> 219\u001b[0m err\u001b[38;5;241m.\u001b[39mraise_mysql_exception(\u001b[38;5;28mself\u001b[39m\u001b[38;5;241m.\u001b[39m_data)\n",
      "File \u001b[1;32m~\\anaconda3\\Lib\\site-packages\\pymysql\\err.py:150\u001b[0m, in \u001b[0;36mraise_mysql_exception\u001b[1;34m(data)\u001b[0m\n\u001b[0;32m    149\u001b[0m     errorclass \u001b[38;5;241m=\u001b[39m InternalError \u001b[38;5;28;01mif\u001b[39;00m errno \u001b[38;5;241m<\u001b[39m \u001b[38;5;241m1000\u001b[39m \u001b[38;5;28;01melse\u001b[39;00m OperationalError\n\u001b[1;32m--> 150\u001b[0m \u001b[38;5;28;01mraise\u001b[39;00m errorclass(errno, errval)\n",
      "\u001b[1;31mProgrammingError\u001b[0m: (1007, \"Can't create database 'project_shopeasy'; database exists\")",
      "\nThe above exception was the direct cause of the following exception:\n",
      "\u001b[1;31mDatabaseError\u001b[0m                             Traceback (most recent call last)",
      "Cell \u001b[1;32mIn[8], line 3\u001b[0m\n\u001b[0;32m      1\u001b[0m \u001b[38;5;66;03m### Create new database in Sql\u001b[39;00m\n\u001b[0;32m      2\u001b[0m db\u001b[38;5;241m=\u001b[39m(\u001b[38;5;124m\"\u001b[39m\u001b[38;5;124mCreate database Project_ShopEasy\u001b[39m\u001b[38;5;124m\"\u001b[39m)\n\u001b[1;32m----> 3\u001b[0m pd\u001b[38;5;241m.\u001b[39mread_sql_query(db,myconnection)\n",
      "File \u001b[1;32m~\\anaconda3\\Lib\\site-packages\\pandas\\io\\sql.py:526\u001b[0m, in \u001b[0;36mread_sql_query\u001b[1;34m(sql, con, index_col, coerce_float, params, parse_dates, chunksize, dtype, dtype_backend)\u001b[0m\n\u001b[0;32m    523\u001b[0m \u001b[38;5;28;01massert\u001b[39;00m dtype_backend \u001b[38;5;129;01mis\u001b[39;00m \u001b[38;5;129;01mnot\u001b[39;00m lib\u001b[38;5;241m.\u001b[39mno_default\n\u001b[0;32m    525\u001b[0m \u001b[38;5;28;01mwith\u001b[39;00m pandasSQL_builder(con) \u001b[38;5;28;01mas\u001b[39;00m pandas_sql:\n\u001b[1;32m--> 526\u001b[0m     \u001b[38;5;28;01mreturn\u001b[39;00m pandas_sql\u001b[38;5;241m.\u001b[39mread_query(\n\u001b[0;32m    527\u001b[0m         sql,\n\u001b[0;32m    528\u001b[0m         index_col\u001b[38;5;241m=\u001b[39mindex_col,\n\u001b[0;32m    529\u001b[0m         params\u001b[38;5;241m=\u001b[39mparams,\n\u001b[0;32m    530\u001b[0m         coerce_float\u001b[38;5;241m=\u001b[39mcoerce_float,\n\u001b[0;32m    531\u001b[0m         parse_dates\u001b[38;5;241m=\u001b[39mparse_dates,\n\u001b[0;32m    532\u001b[0m         chunksize\u001b[38;5;241m=\u001b[39mchunksize,\n\u001b[0;32m    533\u001b[0m         dtype\u001b[38;5;241m=\u001b[39mdtype,\n\u001b[0;32m    534\u001b[0m         dtype_backend\u001b[38;5;241m=\u001b[39mdtype_backend,\n\u001b[0;32m    535\u001b[0m     )\n",
      "File \u001b[1;32m~\\anaconda3\\Lib\\site-packages\\pandas\\io\\sql.py:2738\u001b[0m, in \u001b[0;36mSQLiteDatabase.read_query\u001b[1;34m(self, sql, index_col, coerce_float, parse_dates, params, chunksize, dtype, dtype_backend)\u001b[0m\n\u001b[0;32m   2727\u001b[0m \u001b[38;5;28;01mdef\u001b[39;00m \u001b[38;5;21mread_query\u001b[39m(\n\u001b[0;32m   2728\u001b[0m     \u001b[38;5;28mself\u001b[39m,\n\u001b[0;32m   2729\u001b[0m     sql,\n\u001b[1;32m   (...)\u001b[0m\n\u001b[0;32m   2736\u001b[0m     dtype_backend: DtypeBackend \u001b[38;5;241m|\u001b[39m Literal[\u001b[38;5;124m\"\u001b[39m\u001b[38;5;124mnumpy\u001b[39m\u001b[38;5;124m\"\u001b[39m] \u001b[38;5;241m=\u001b[39m \u001b[38;5;124m\"\u001b[39m\u001b[38;5;124mnumpy\u001b[39m\u001b[38;5;124m\"\u001b[39m,\n\u001b[0;32m   2737\u001b[0m ) \u001b[38;5;241m-\u001b[39m\u001b[38;5;241m>\u001b[39m DataFrame \u001b[38;5;241m|\u001b[39m Iterator[DataFrame]:\n\u001b[1;32m-> 2738\u001b[0m     cursor \u001b[38;5;241m=\u001b[39m \u001b[38;5;28mself\u001b[39m\u001b[38;5;241m.\u001b[39mexecute(sql, params)\n\u001b[0;32m   2739\u001b[0m     columns \u001b[38;5;241m=\u001b[39m [col_desc[\u001b[38;5;241m0\u001b[39m] \u001b[38;5;28;01mfor\u001b[39;00m col_desc \u001b[38;5;129;01min\u001b[39;00m cursor\u001b[38;5;241m.\u001b[39mdescription]\n\u001b[0;32m   2741\u001b[0m     \u001b[38;5;28;01mif\u001b[39;00m chunksize \u001b[38;5;129;01mis\u001b[39;00m \u001b[38;5;129;01mnot\u001b[39;00m \u001b[38;5;28;01mNone\u001b[39;00m:\n",
      "File \u001b[1;32m~\\anaconda3\\Lib\\site-packages\\pandas\\io\\sql.py:2686\u001b[0m, in \u001b[0;36mSQLiteDatabase.execute\u001b[1;34m(self, sql, params)\u001b[0m\n\u001b[0;32m   2683\u001b[0m     \u001b[38;5;28;01mraise\u001b[39;00m ex \u001b[38;5;28;01mfrom\u001b[39;00m \u001b[38;5;21;01minner_exc\u001b[39;00m\n\u001b[0;32m   2685\u001b[0m ex \u001b[38;5;241m=\u001b[39m DatabaseError(\u001b[38;5;124mf\u001b[39m\u001b[38;5;124m\"\u001b[39m\u001b[38;5;124mExecution failed on sql \u001b[39m\u001b[38;5;124m'\u001b[39m\u001b[38;5;132;01m{\u001b[39;00msql\u001b[38;5;132;01m}\u001b[39;00m\u001b[38;5;124m'\u001b[39m\u001b[38;5;124m: \u001b[39m\u001b[38;5;132;01m{\u001b[39;00mexc\u001b[38;5;132;01m}\u001b[39;00m\u001b[38;5;124m\"\u001b[39m)\n\u001b[1;32m-> 2686\u001b[0m \u001b[38;5;28;01mraise\u001b[39;00m ex \u001b[38;5;28;01mfrom\u001b[39;00m \u001b[38;5;21;01mexc\u001b[39;00m\n",
      "\u001b[1;31mDatabaseError\u001b[0m: Execution failed on sql 'Create database Project_ShopEasy': (1007, \"Can't create database 'project_shopeasy'; database exists\")"
     ]
    }
   ],
   "source": [
    "### Create new database in Sql\n",
    "db=(\"Create database Project_ShopEasy\")\n",
    "pd.read_sql_query(db,myconnection)"
   ]
  },
  {
   "cell_type": "markdown",
   "id": "d0807c81-f3c4-4e81-b29b-cc4553ba4c78",
   "metadata": {},
   "source": [
    "### 2.Lodding Csv files into pandas"
   ]
  },
  {
   "cell_type": "code",
   "execution_count": 10,
   "id": "d89d5860-8cff-4170-97d6-ba4aa9695b0c",
   "metadata": {},
   "outputs": [],
   "source": [
    "### Load CSV files\n",
    "df_cj = pd.read_csv(\"C://Users//DELL//Downloads//PROJECT//ShopEasy//customer_journey.csv\")\n",
    "df_cr = pd.read_csv(\"C://Users//DELL//Downloads//PROJECT//ShopEasy//customer_reviews.csv\")\n",
    "df_ed = pd.read_csv(\"C://Users//DELL//Downloads//PROJECT//ShopEasy//engagement_data.csv\")\n",
    "df_p = pd.read_csv(\"C://Users//DELL//Downloads//PROJECT//ShopEasy//products.csv\")\n",
    "df_g = pd.read_csv(\"C://Users//DELL//Downloads//PROJECT//ShopEasy//geography.csv\")\n",
    "df_c = pd.read_csv(\"C://Users//DELL//Downloads//PROJECT//ShopEasy//customers.csv\")"
   ]
  },
  {
   "cell_type": "markdown",
   "id": "da7d58f5-7b9d-474b-bea7-b7cf5cf474ea",
   "metadata": {},
   "source": [
    "### 3.data Cleaning"
   ]
  },
  {
   "cell_type": "markdown",
   "id": "5a31f56b-9c58-4227-93d4-4cc78ce9fe6b",
   "metadata": {},
   "source": [
    "### 1. data cleaning in cutomer_journey table"
   ]
  },
  {
   "cell_type": "code",
   "execution_count": 11,
   "id": "52d1ed00-6980-48b5-9cf3-4a80a4189f5b",
   "metadata": {},
   "outputs": [
    {
     "data": {
      "text/plain": [
       "JourneyID       int64\n",
       "CustomerID      int64\n",
       "ProductID       int64\n",
       "VisitDate      object\n",
       "Stage          object\n",
       "Action         object\n",
       "Duration      float64\n",
       "dtype: object"
      ]
     },
     "execution_count": 11,
     "metadata": {},
     "output_type": "execute_result"
    }
   ],
   "source": [
    "df_cj.dtypes"
   ]
  },
  {
   "cell_type": "code",
   "execution_count": 12,
   "id": "8b6f042d-7ea0-4a92-925e-df3e899a4bce",
   "metadata": {},
   "outputs": [],
   "source": [
    "### visit date column in object so change to datetime format \n",
    "df_cj['VisitDate']=pd.to_datetime(df_cj['VisitDate'])"
   ]
  },
  {
   "cell_type": "code",
   "execution_count": 13,
   "id": "8c85d05f-0bc1-4313-8a32-6fd2c042cf57",
   "metadata": {},
   "outputs": [
    {
     "data": {
      "text/plain": [
       "JourneyID              int64\n",
       "CustomerID             int64\n",
       "ProductID              int64\n",
       "VisitDate     datetime64[ns]\n",
       "Stage                 object\n",
       "Action                object\n",
       "Duration             float64\n",
       "dtype: object"
      ]
     },
     "execution_count": 13,
     "metadata": {},
     "output_type": "execute_result"
    }
   ],
   "source": [
    "df_cj.dtypes"
   ]
  },
  {
   "cell_type": "code",
   "execution_count": 14,
   "id": "92eae8bf-a939-4cb2-80c5-98be51f7a83b",
   "metadata": {},
   "outputs": [
    {
     "data": {
      "text/plain": [
       "JourneyID      0\n",
       "CustomerID     0\n",
       "ProductID      0\n",
       "VisitDate      0\n",
       "Stage          0\n",
       "Action         0\n",
       "Duration      14\n",
       "dtype: int64"
      ]
     },
     "execution_count": 14,
     "metadata": {},
     "output_type": "execute_result"
    }
   ],
   "source": [
    "df_cj.isnull().sum()"
   ]
  },
  {
   "cell_type": "code",
   "execution_count": 16,
   "id": "63349097-5a0b-4373-8c7b-8db8bbbb6c36",
   "metadata": {},
   "outputs": [
    {
     "data": {
      "text/html": [
       "<div>\n",
       "<style scoped>\n",
       "    .dataframe tbody tr th:only-of-type {\n",
       "        vertical-align: middle;\n",
       "    }\n",
       "\n",
       "    .dataframe tbody tr th {\n",
       "        vertical-align: top;\n",
       "    }\n",
       "\n",
       "    .dataframe thead th {\n",
       "        text-align: right;\n",
       "    }\n",
       "</style>\n",
       "<table border=\"1\" class=\"dataframe\">\n",
       "  <thead>\n",
       "    <tr style=\"text-align: right;\">\n",
       "      <th></th>\n",
       "      <th>JourneyID</th>\n",
       "      <th>CustomerID</th>\n",
       "      <th>ProductID</th>\n",
       "      <th>VisitDate</th>\n",
       "      <th>Stage</th>\n",
       "      <th>Action</th>\n",
       "      <th>Duration</th>\n",
       "    </tr>\n",
       "  </thead>\n",
       "  <tbody>\n",
       "    <tr>\n",
       "      <th>0</th>\n",
       "      <td>1</td>\n",
       "      <td>64</td>\n",
       "      <td>18</td>\n",
       "      <td>2024-06-10</td>\n",
       "      <td>Checkout</td>\n",
       "      <td>Drop-off</td>\n",
       "      <td>NaN</td>\n",
       "    </tr>\n",
       "    <tr>\n",
       "      <th>1</th>\n",
       "      <td>2</td>\n",
       "      <td>94</td>\n",
       "      <td>11</td>\n",
       "      <td>2025-07-09</td>\n",
       "      <td>Checkout</td>\n",
       "      <td>Drop-off</td>\n",
       "      <td>NaN</td>\n",
       "    </tr>\n",
       "    <tr>\n",
       "      <th>2</th>\n",
       "      <td>3</td>\n",
       "      <td>34</td>\n",
       "      <td>8</td>\n",
       "      <td>2024-06-14</td>\n",
       "      <td>ProductPage</td>\n",
       "      <td>View</td>\n",
       "      <td>235.0</td>\n",
       "    </tr>\n",
       "    <tr>\n",
       "      <th>3</th>\n",
       "      <td>4</td>\n",
       "      <td>33</td>\n",
       "      <td>18</td>\n",
       "      <td>2025-05-28</td>\n",
       "      <td>Checkout</td>\n",
       "      <td>Drop-off</td>\n",
       "      <td>NaN</td>\n",
       "    </tr>\n",
       "    <tr>\n",
       "      <th>4</th>\n",
       "      <td>5</td>\n",
       "      <td>91</td>\n",
       "      <td>10</td>\n",
       "      <td>2023-02-11</td>\n",
       "      <td>Homepage</td>\n",
       "      <td>Click</td>\n",
       "      <td>156.0</td>\n",
       "    </tr>\n",
       "    <tr>\n",
       "      <th>...</th>\n",
       "      <td>...</td>\n",
       "      <td>...</td>\n",
       "      <td>...</td>\n",
       "      <td>...</td>\n",
       "      <td>...</td>\n",
       "      <td>...</td>\n",
       "      <td>...</td>\n",
       "    </tr>\n",
       "    <tr>\n",
       "      <th>95</th>\n",
       "      <td>96</td>\n",
       "      <td>22</td>\n",
       "      <td>9</td>\n",
       "      <td>2024-07-28</td>\n",
       "      <td>ProductPage</td>\n",
       "      <td>View</td>\n",
       "      <td>212.0</td>\n",
       "    </tr>\n",
       "    <tr>\n",
       "      <th>96</th>\n",
       "      <td>97</td>\n",
       "      <td>92</td>\n",
       "      <td>19</td>\n",
       "      <td>2025-05-26</td>\n",
       "      <td>homepage</td>\n",
       "      <td>View</td>\n",
       "      <td>203.0</td>\n",
       "    </tr>\n",
       "    <tr>\n",
       "      <th>97</th>\n",
       "      <td>98</td>\n",
       "      <td>95</td>\n",
       "      <td>8</td>\n",
       "      <td>2025-05-25</td>\n",
       "      <td>Homepage</td>\n",
       "      <td>Click</td>\n",
       "      <td>68.0</td>\n",
       "    </tr>\n",
       "    <tr>\n",
       "      <th>98</th>\n",
       "      <td>99</td>\n",
       "      <td>58</td>\n",
       "      <td>16</td>\n",
       "      <td>2024-07-06</td>\n",
       "      <td>Checkout</td>\n",
       "      <td>Purchase</td>\n",
       "      <td>87.0</td>\n",
       "    </tr>\n",
       "    <tr>\n",
       "      <th>99</th>\n",
       "      <td>100</td>\n",
       "      <td>92</td>\n",
       "      <td>10</td>\n",
       "      <td>2024-04-06</td>\n",
       "      <td>ProductPage</td>\n",
       "      <td>View</td>\n",
       "      <td>237.0</td>\n",
       "    </tr>\n",
       "  </tbody>\n",
       "</table>\n",
       "<p>100 rows × 7 columns</p>\n",
       "</div>"
      ],
      "text/plain": [
       "    JourneyID  CustomerID  ProductID  VisitDate        Stage    Action  \\\n",
       "0           1          64         18 2024-06-10     Checkout  Drop-off   \n",
       "1           2          94         11 2025-07-09     Checkout  Drop-off   \n",
       "2           3          34          8 2024-06-14  ProductPage      View   \n",
       "3           4          33         18 2025-05-28     Checkout  Drop-off   \n",
       "4           5          91         10 2023-02-11     Homepage     Click   \n",
       "..        ...         ...        ...        ...          ...       ...   \n",
       "95         96          22          9 2024-07-28  ProductPage      View   \n",
       "96         97          92         19 2025-05-26     homepage      View   \n",
       "97         98          95          8 2025-05-25     Homepage     Click   \n",
       "98         99          58         16 2024-07-06     Checkout  Purchase   \n",
       "99        100          92         10 2024-04-06  ProductPage      View   \n",
       "\n",
       "    Duration  \n",
       "0        NaN  \n",
       "1        NaN  \n",
       "2      235.0  \n",
       "3        NaN  \n",
       "4      156.0  \n",
       "..       ...  \n",
       "95     212.0  \n",
       "96     203.0  \n",
       "97      68.0  \n",
       "98      87.0  \n",
       "99     237.0  \n",
       "\n",
       "[100 rows x 7 columns]"
      ]
     },
     "execution_count": 16,
     "metadata": {},
     "output_type": "execute_result"
    }
   ],
   "source": [
    "df_cj.head(10)"
   ]
  },
  {
   "cell_type": "code",
   "execution_count": 19,
   "id": "e87a2559-960e-4645-a68f-714c86e895c3",
   "metadata": {},
   "outputs": [],
   "source": [
    "### duration columns have null values of action drop-off,\n",
    "#so we fill null values with the Average duration of other action \n",
    "avg_duration=df_cj[df_cj['Duration'].notna()]['Duration'].mean()\n",
    "df_cj['Duration']=df_cj['Duration'].fillna(avg_duration)"
   ]
  },
  {
   "cell_type": "code",
   "execution_count": 20,
   "id": "7994c966-ab48-4b9f-ac8e-7d87ae85fcd7",
   "metadata": {},
   "outputs": [
    {
     "data": {
      "text/plain": [
       "JourneyID     0\n",
       "CustomerID    0\n",
       "ProductID     0\n",
       "VisitDate     0\n",
       "Stage         0\n",
       "Action        0\n",
       "Duration      0\n",
       "dtype: int64"
      ]
     },
     "execution_count": 20,
     "metadata": {},
     "output_type": "execute_result"
    }
   ],
   "source": [
    "df_cj.isnull().sum()"
   ]
  },
  {
   "cell_type": "markdown",
   "id": "a8bb16b1-7284-4fb8-b8a4-14391e8eb0b7",
   "metadata": {},
   "source": [
    "### 2.data Cleaning in customer_reviews table"
   ]
  },
  {
   "cell_type": "code",
   "execution_count": 21,
   "id": "55c3b1f9-9535-43b3-a439-93233fb34988",
   "metadata": {},
   "outputs": [
    {
     "data": {
      "text/plain": [
       "ReviewID       int64\n",
       "CustomerID     int64\n",
       "ProductID      int64\n",
       "ReviewDate    object\n",
       "Rating         int64\n",
       "ReviewText    object\n",
       "dtype: object"
      ]
     },
     "execution_count": 21,
     "metadata": {},
     "output_type": "execute_result"
    }
   ],
   "source": [
    "df_cr.dtypes"
   ]
  },
  {
   "cell_type": "code",
   "execution_count": 23,
   "id": "32176d80-6bbd-4778-a9d5-8328d6ee1028",
   "metadata": {},
   "outputs": [],
   "source": [
    "df_cr['ReviewDate']=pd.to_datetime(df_cr['ReviewDate'])"
   ]
  },
  {
   "cell_type": "code",
   "execution_count": 26,
   "id": "41d022b3-5fff-48f2-b654-ae016e3c0eff",
   "metadata": {},
   "outputs": [
    {
     "data": {
      "text/plain": [
       "ReviewID               int64\n",
       "CustomerID             int64\n",
       "ProductID              int64\n",
       "ReviewDate    datetime64[ns]\n",
       "Rating                 int64\n",
       "ReviewText            object\n",
       "dtype: object"
      ]
     },
     "execution_count": 26,
     "metadata": {},
     "output_type": "execute_result"
    }
   ],
   "source": [
    "df_cr.dtypes"
   ]
  },
  {
   "cell_type": "code",
   "execution_count": 42,
   "id": "f6155c96-4f0b-4466-929e-c061cabf6205",
   "metadata": {},
   "outputs": [
    {
     "data": {
      "text/plain": [
       "ReviewID      0\n",
       "CustomerID    0\n",
       "ProductID     0\n",
       "ReviewDate    0\n",
       "Rating        0\n",
       "ReviewText    0\n",
       "dtype: int64"
      ]
     },
     "execution_count": 42,
     "metadata": {},
     "output_type": "execute_result"
    }
   ],
   "source": [
    "df_cr.isnull().sum() ### checking for missing values"
   ]
  },
  {
   "cell_type": "markdown",
   "id": "bcba2cb6-cdef-4d53-ac63-1857c7ee8e35",
   "metadata": {},
   "source": [
    "### 3. data cleaning in engagement_data  table"
   ]
  },
  {
   "cell_type": "code",
   "execution_count": 28,
   "id": "0abb0be8-e436-4790-8333-e39584ee3c42",
   "metadata": {},
   "outputs": [
    {
     "data": {
      "text/plain": [
       "EngagementID            int64\n",
       "ContentID               int64\n",
       "ContentType            object\n",
       "Likes                   int64\n",
       "EngagementDate         object\n",
       "CampaignID              int64\n",
       "ProductID               int64\n",
       "ViewsClicksCombined    object\n",
       "dtype: object"
      ]
     },
     "execution_count": 28,
     "metadata": {},
     "output_type": "execute_result"
    }
   ],
   "source": [
    "df_ed.dtypes"
   ]
  },
  {
   "cell_type": "code",
   "execution_count": 38,
   "id": "3e883eae-aa71-4449-874a-c9fa4bba7339",
   "metadata": {},
   "outputs": [],
   "source": [
    "df_ed['EngagementDate']=pd.to_datetime(df_ed['EngagementDate']) \n",
    "### conveting date time format\n"
   ]
  },
  {
   "cell_type": "code",
   "execution_count": 39,
   "id": "e9fdc94a-fea8-4c3c-8a62-fa299f51e598",
   "metadata": {},
   "outputs": [
    {
     "data": {
      "text/plain": [
       "EngagementID           0\n",
       "ContentID              0\n",
       "ContentType            0\n",
       "Likes                  0\n",
       "EngagementDate         0\n",
       "CampaignID             0\n",
       "ProductID              0\n",
       "ViewsClicksCombined    0\n",
       "Views                  0\n",
       "Clicks                 0\n",
       "dtype: int64"
      ]
     },
     "execution_count": 39,
     "metadata": {},
     "output_type": "execute_result"
    }
   ],
   "source": [
    "df_ed.isnull().sum() ### checking for missing value"
   ]
  },
  {
   "cell_type": "code",
   "execution_count": 32,
   "id": "92a6e69d-6276-42b5-834b-d354a21b58b5",
   "metadata": {},
   "outputs": [],
   "source": [
    "### In this engagement_data views and clicks are combined in object data type \n",
    "# So we convert clicks and views in separate columns as integer data types\n",
    "df_ed[['Views', 'Clicks']] = df_ed['ViewsClicksCombined'].str.split('-', expand=True).astype(int)"
   ]
  },
  {
   "cell_type": "code",
   "execution_count": 40,
   "id": "217f1a42-6ddb-4ccd-9b8c-09a8ca50b5e5",
   "metadata": {},
   "outputs": [],
   "source": [
    "### drop the viewscliksCombined to columns\n",
    "df_ed.drop(columns=['ViewsClicksCombined'], inplace=True)"
   ]
  },
  {
   "cell_type": "code",
   "execution_count": 41,
   "id": "f999d1c7-1b27-4ca4-97f9-2dc1087f1865",
   "metadata": {},
   "outputs": [
    {
     "data": {
      "text/plain": [
       "EngagementID               int64\n",
       "ContentID                  int64\n",
       "ContentType               object\n",
       "Likes                      int64\n",
       "EngagementDate    datetime64[ns]\n",
       "CampaignID                 int64\n",
       "ProductID                  int64\n",
       "Views                      int32\n",
       "Clicks                     int32\n",
       "dtype: object"
      ]
     },
     "execution_count": 41,
     "metadata": {},
     "output_type": "execute_result"
    }
   ],
   "source": [
    "df_ed.dtypes"
   ]
  },
  {
   "cell_type": "markdown",
   "id": "b9598e56-ea2c-4f45-bae0-302fbb1beb8b",
   "metadata": {},
   "source": [
    "### 4. data cleaning in products table"
   ]
  },
  {
   "cell_type": "code",
   "execution_count": 45,
   "id": "26e748da-e696-420b-8389-441921fbfa2a",
   "metadata": {},
   "outputs": [
    {
     "data": {
      "text/plain": [
       "ProductID        int64\n",
       "ProductName     object\n",
       "Category        object\n",
       "Price          float64\n",
       "dtype: object"
      ]
     },
     "execution_count": 45,
     "metadata": {},
     "output_type": "execute_result"
    }
   ],
   "source": [
    "df_p.dtypes # checking for any incorrect data type format"
   ]
  },
  {
   "cell_type": "code",
   "execution_count": 46,
   "id": "0caaaf03-c97f-4a34-b328-fc0ca1508ec4",
   "metadata": {},
   "outputs": [
    {
     "data": {
      "text/plain": [
       "ProductID      0\n",
       "ProductName    0\n",
       "Category       0\n",
       "Price          0\n",
       "dtype: int64"
      ]
     },
     "execution_count": 46,
     "metadata": {},
     "output_type": "execute_result"
    }
   ],
   "source": [
    "df_p.isnull().sum() # checking for missing vlaues"
   ]
  },
  {
   "cell_type": "markdown",
   "id": "0f61edb7-c7fa-467f-98cb-2acbf4b2b69c",
   "metadata": {},
   "source": [
    "### 5. data cleaning in geography table"
   ]
  },
  {
   "cell_type": "code",
   "execution_count": 48,
   "id": "1234f1e3-4e61-4621-a392-e81c85accc97",
   "metadata": {},
   "outputs": [
    {
     "data": {
      "text/plain": [
       "GeographyID     int64\n",
       "Country        object\n",
       "City           object\n",
       "dtype: object"
      ]
     },
     "execution_count": 48,
     "metadata": {},
     "output_type": "execute_result"
    }
   ],
   "source": [
    "df_g.dtypes"
   ]
  },
  {
   "cell_type": "code",
   "execution_count": 49,
   "id": "29202fdb-a94b-4de7-9551-f019deb38b5a",
   "metadata": {},
   "outputs": [
    {
     "data": {
      "text/plain": [
       "GeographyID    0\n",
       "Country        0\n",
       "City           0\n",
       "dtype: int64"
      ]
     },
     "execution_count": 49,
     "metadata": {},
     "output_type": "execute_result"
    }
   ],
   "source": [
    "df_g.isnull().sum()"
   ]
  },
  {
   "cell_type": "markdown",
   "id": "142c98b5-728f-4d46-a4d4-1415064baacf",
   "metadata": {},
   "source": [
    "### 6. data cleaning in Customers table"
   ]
  },
  {
   "cell_type": "code",
   "execution_count": 50,
   "id": "7867021b-fbf5-4607-8568-13f126f389fa",
   "metadata": {},
   "outputs": [
    {
     "data": {
      "text/plain": [
       "CustomerID       int64\n",
       "CustomerName    object\n",
       "Email           object\n",
       "Gender          object\n",
       "Age              int64\n",
       "GeographyID      int64\n",
       "dtype: object"
      ]
     },
     "execution_count": 50,
     "metadata": {},
     "output_type": "execute_result"
    }
   ],
   "source": [
    "df_c.dtypes"
   ]
  },
  {
   "cell_type": "code",
   "execution_count": 51,
   "id": "d86772db-b3e5-4533-a6d1-5ec8be8fadfe",
   "metadata": {},
   "outputs": [
    {
     "data": {
      "text/plain": [
       "CustomerID      0\n",
       "CustomerName    0\n",
       "Email           0\n",
       "Gender          0\n",
       "Age             0\n",
       "GeographyID     0\n",
       "dtype: int64"
      ]
     },
     "execution_count": 51,
     "metadata": {},
     "output_type": "execute_result"
    }
   ],
   "source": [
    "df_c.isnull().sum()"
   ]
  },
  {
   "cell_type": "markdown",
   "id": "93ab3b5d-cd13-4e42-9d1d-3bf2f06c7ebc",
   "metadata": {},
   "source": [
    "### 4.Insert data into MySQL data base"
   ]
  },
  {
   "cell_type": "code",
   "execution_count": 60,
   "id": "a271361f-6e5a-4282-b6f6-0d4f22165391",
   "metadata": {},
   "outputs": [],
   "source": [
    "cur=myconnection.cursor()"
   ]
  },
  {
   "cell_type": "code",
   "execution_count": 61,
   "id": "5cca1f36-72fa-47e9-b4b5-aff3c38a8a7b",
   "metadata": {},
   "outputs": [
    {
     "name": "stdout",
     "output_type": "stream",
     "text": [
      "customer_journey inserted Sucessfully!\n",
      "customer_reviews inserted Sucessfully!\n",
      "engagement_data inserted Sucessfully!\n",
      "products inserted Sucessfully!\n",
      "geography inserted Sucessfully!\n",
      "customer inserted Sucessfully!\n"
     ]
    }
   ],
   "source": [
    "dtype_mapping={\n",
    "    'int64':'INTEGER',\n",
    "    'int32':'INTEGER',\n",
    "    'float64':'FLOAT',\n",
    "    'object':'TEXT',\n",
    "    'datetime64[ns]':'DATETIME',\n",
    "    'bool':'BOOLEAN'\n",
    "}\n",
    "tables = {\n",
    "    \"customer_journey\": df_cj,\n",
    "    \"customer_reviews\": df_cr,\n",
    "    \"engagement_data\": df_ed,\n",
    "    \"products\": df_p,\n",
    "    \"geography\": df_g,\n",
    "    \"customer\": df_c\n",
    "}\n",
    "for table_name, df in tables.items():\n",
    "    columns=\",\".join(f\"{col} {dtype_mapping[str (dtype)]}\" for col, dtype in zip(df.columns, df.dtypes))\n",
    "    #create table query\n",
    "    table_query=f\"CREATE TABLE Project_ShopEasy.{table_name}({columns})\"\n",
    "    cur.execute(table_query)\n",
    "# Insert data into table\n",
    "    for i in range(0,len(df)):\n",
    "        cur.execute(f\"INSERT INTO Project_ShopEasy.{table_name} VALUES {tuple(df.iloc[i])}\")\n",
    "    \n",
    "    myconnection.commit() \n",
    "    print(f\"{table_name} inserted Sucessfully!\")"
   ]
  },
  {
   "cell_type": "markdown",
   "id": "9ab446ee-5508-4ab9-a42e-1464cac0a937",
   "metadata": {},
   "source": [
    "### 5. Execute SQL Queries using Python to Analyze"
   ]
  },
  {
   "cell_type": "code",
   "execution_count": 75,
   "id": "9ec6bfc2-2eb9-4f03-b8fb-f0eb581551ec",
   "metadata": {},
   "outputs": [],
   "source": [
    "myconnection=pymysql.connect(host='127.0.0.1',user='root',port=3307,password='Nivetha@13',database='Project_ShopEasy')\n",
    "cursor=myconnection.cursor()"
   ]
  },
  {
   "cell_type": "code",
   "execution_count": 77,
   "id": "9ea00ea2-8f92-4897-a764-72b451a2740b",
   "metadata": {},
   "outputs": [
    {
     "name": "stdout",
     "output_type": "stream",
     "text": [
      "\n",
      " ###Table: customer_journey\n",
      "   JourneyID  CustomerID  ProductID  VisitDate        Stage    Action  \\\n",
      "0          1          64         18 2024-06-10     Checkout  Drop-off   \n",
      "1          2          94         11 2025-07-09     Checkout  Drop-off   \n",
      "2          3          34          8 2024-06-14  ProductPage      View   \n",
      "3          4          33         18 2025-05-28     Checkout  Drop-off   \n",
      "4          5          91         10 2023-02-11     Homepage     Click   \n",
      "\n",
      "   Duration  \n",
      "0   166.535  \n",
      "1   166.535  \n",
      "2   235.000  \n",
      "3   166.535  \n",
      "4   156.000  \n",
      "\n",
      " ###Table: customer_reviews\n",
      "   ReviewID  CustomerID  ProductID ReviewDate  Rating  \\\n",
      "0         1          77         18 2023-12-23       3   \n",
      "1         2          80         19 2024-12-25       5   \n",
      "2         3          50         13 2025-01-26       4   \n",
      "3         4          78         15 2025-04-21       3   \n",
      "4         5          64          2 2023-07-16       3   \n",
      "\n",
      "                                 ReviewText  \n",
      "0   Average  experience,  nothing  special.  \n",
      "1            The  quality  is    top-notch.  \n",
      "2   Five  stars  for  the  quick  delivery.  \n",
      "3  Good  quality,  but  could  be  cheaper.  \n",
      "4   Average  experience,  nothing  special.  \n",
      "\n",
      " ###Table: engagement_data\n",
      "   EngagementID  ContentID ContentType  Likes EngagementDate  CampaignID  \\\n",
      "0             1         39        Blog    190     2023-08-30           1   \n",
      "1             2         48        Blog    114     2023-03-28          18   \n",
      "2             3         16       video     32     2023-12-08           7   \n",
      "3             4         43       Video     17     2025-01-21          19   \n",
      "4             5         16  newsletter    306     2024-02-21           6   \n",
      "\n",
      "   ProductID  Views  Clicks  \n",
      "0          9   1883     671  \n",
      "1         20   5280     532  \n",
      "2         14   1905     204  \n",
      "3         20   2766     257  \n",
      "4         15   5116    1524  \n",
      "\n",
      " ###Table: products\n",
      "   ProductID      ProductName Category   Price\n",
      "0          1    Running Shoes   Sports  223.75\n",
      "1          2  Fitness Tracker   Sports  196.68\n",
      "2          3         Yoga Mat   Sports  485.32\n",
      "3          4        Dumbbells   Sports   26.21\n",
      "4          5      Soccer Ball   Sports   41.26\n",
      "\n",
      " ###Table: geography\n",
      "   GeographyID  Country    City\n",
      "0            1       UK  London\n",
      "1            2  Germany  Berlin\n",
      "2            3   France   Paris\n",
      "3            4    Spain  Madrid\n",
      "4            5    Italy    Rome\n",
      "\n",
      " ###Table: customer\n",
      "   CustomerID      CustomerName                         Email  Gender  Age  \\\n",
      "0           1     Emma Anderson     emma.anderson@example.com    Male   50   \n",
      "1           2       Sarah Brown       sarah.brown@example.com  Female   37   \n",
      "2           3  Robert Hernandez  robert.hernandez@example.com  Female   26   \n",
      "3           4      David Garcia      david.garcia@example.com    Male   25   \n",
      "4           5       Emma Miller       emma.miller@example.com  Female   41   \n",
      "\n",
      "   GeographyID  \n",
      "0            2  \n",
      "1            4  \n",
      "2            6  \n",
      "3            8  \n",
      "4            4  \n"
     ]
    }
   ],
   "source": [
    "tables=['customer_journey','customer_reviews','engagement_data','products','geography','customer']\n",
    "for table in tables:\n",
    "    query = f\"SELECT * FROM {table} LIMIT 5;\"\n",
    "    cursor.execute(query)\n",
    "    rows = cursor.fetchall()\n",
    "    columns = [desc[0] for desc in cursor.description]\n",
    "    \n",
    "    df = pd.DataFrame(rows, columns=columns)\n",
    "    print(f\"\\n ###Table: {table}\")\n",
    "    print(df)"
   ]
  },
  {
   "cell_type": "markdown",
   "id": "0ed57900-a82e-4172-84ef-d8c4e6274511",
   "metadata": {},
   "source": [
    "### 1.Customer Engagement Analysis"
   ]
  },
  {
   "cell_type": "markdown",
   "id": "6a03ac16-f9db-4cc2-b639-4398935b3ad7",
   "metadata": {},
   "source": [
    "### #What factors are influencing Customer engagement?"
   ]
  },
  {
   "cell_type": "code",
   "execution_count": 81,
   "id": "c608a474-72d0-4ea2-9e9e-e33632969b2b",
   "metadata": {},
   "outputs": [
    {
     "data": {
      "text/plain": [
       "(('video', Decimal('3473'), Decimal('13803'), Decimal('64073')),\n",
       " ('Blog', Decimal('2999'), Decimal('14300'), Decimal('65977')),\n",
       " ('Socialmedia', Decimal('2594'), Decimal('12498'), Decimal('59936')),\n",
       " ('newsletter', Decimal('1380'), Decimal('6350'), Decimal('37059')))"
      ]
     },
     "execution_count": 81,
     "metadata": {},
     "output_type": "execute_result"
    }
   ],
   "source": [
    "### Find most engaging content types in engagement data\n",
    "query1=\"\"\"\n",
    "Select ContentType,Round(Sum(Likes)) as TotalLikes,Round(Sum(Clicks)) as TotalClicks,Round(Sum(Views)) as TotalViews \n",
    "from engagement_data\n",
    "Group by ContentType\n",
    "ORder by TotalLikes desc,TotalClicks desc,TotalViews desc;\n",
    "\"\"\"\n",
    "cursor.execute(query1)\n",
    "results=cursor.fetchall()\n",
    "results"
   ]
  },
  {
   "cell_type": "code",
   "execution_count": 92,
   "id": "63977b35-1571-42d6-9075-0a3758b2ed0c",
   "metadata": {},
   "outputs": [
    {
     "name": "stdout",
     "output_type": "stream",
     "text": [
      "$$$ Most Engaging ContentType Results:\n",
      "    ContentType TotalLikes TotalClicks TotalViews\n",
      "0        video       3473       13803      64073\n",
      "1         Blog       2999       14300      65977\n",
      "2  Socialmedia       2594       12498      59936\n",
      "3   newsletter       1380        6350      37059\n"
     ]
    }
   ],
   "source": [
    "df_engagementResult = pd.DataFrame(results, columns=['ContentType','TotalLikes','TotalClicks','TotalViews'])\n",
    "print(\"$$$ Most Engaging ContentType Results:\\n\", df_engagementResult)"
   ]
  },
  {
   "cell_type": "markdown",
   "id": "9445fae2-6569-47fe-ab33-e2f073e4964c",
   "metadata": {},
   "source": [
    "### $Videos getting  most likes, Blog getting most clicks and views than other content types."
   ]
  },
  {
   "cell_type": "code",
   "execution_count": 86,
   "id": "2e131483-75db-46d0-afd4-60587da961c8",
   "metadata": {},
   "outputs": [
    {
     "data": {
      "text/plain": [
       "(('Kayak', Decimal('1231'), Decimal('6073'), Decimal('26456')),\n",
       " ('Running Shoes', Decimal('1160'), Decimal('6199'), Decimal('23158')),\n",
       " ('Football Helmet', Decimal('929'), Decimal('3223'), Decimal('13763')),\n",
       " ('Baseball Glove', Decimal('903'), Decimal('2484'), Decimal('7241')),\n",
       " ('Hockey Stick', Decimal('835'), Decimal('2548'), Decimal('15447')))"
      ]
     },
     "execution_count": 86,
     "metadata": {},
     "output_type": "execute_result"
    }
   ],
   "source": [
    "#### Find which products are engaging customers the most.\n",
    "\n",
    "Productquery=\"\"\"\n",
    "Select p.ProductName,Round(Sum(ed.Likes)) as TotalLikes,Round(Sum(ed.Clicks)) as TotalClicks,Round(Sum(ed.Views)) as TotalViews \n",
    "from engagement_data as ed\n",
    "join products as p on ed.ProductID=p.ProductID\n",
    "Group by p.ProductName\n",
    "ORder by TotalLikes desc,TotalClicks desc,TotalViews desc \n",
    "LIMIT 5;\n",
    "\"\"\"\n",
    "cursor.execute(Productquery)\n",
    "product_results=cursor.fetchall()\n",
    "product_results"
   ]
  },
  {
   "cell_type": "code",
   "execution_count": 91,
   "id": "c362cf0e-5e15-4d57-b54e-042d57f1e549",
   "metadata": {},
   "outputs": [
    {
     "name": "stdout",
     "output_type": "stream",
     "text": [
      "$$$ Most Engaging Product Results:\n",
      "        ProductName TotalLikes TotalClicks TotalViews\n",
      "0            Kayak       1231        6073      26456\n",
      "1    Running Shoes       1160        6199      23158\n",
      "2  Football Helmet        929        3223      13763\n",
      "3   Baseball Glove        903        2484       7241\n",
      "4     Hockey Stick        835        2548      15447\n"
     ]
    }
   ],
   "source": [
    "df_ProductEngagementResult = pd.DataFrame(product_results, columns=['ProductName','TotalLikes','TotalClicks','TotalViews'])\n",
    "print(\"$$$ Most Engaging Product Results:\\n\", df_ProductEngagementResult)"
   ]
  },
  {
   "cell_type": "markdown",
   "id": "7150ad55-18cc-4197-aadb-3d273d75fa5c",
   "metadata": {},
   "source": [
    "### Kayak  and Running Shoes are the most engaging products."
   ]
  },
  {
   "cell_type": "markdown",
   "id": "b6d6a0ff-cf99-41ff-8efc-6af4f716ae8c",
   "metadata": {},
   "source": [
    "### 2.Customer Journey Analysis"
   ]
  },
  {
   "cell_type": "markdown",
   "id": "9315d860-66f2-48de-9a7a-e0ffc5a121c7",
   "metadata": {},
   "source": [
    "### # At what stage are customers dropping off in their journey?"
   ]
  },
  {
   "cell_type": "code",
   "execution_count": 120,
   "id": "a7cd98a9-62ff-4e60-9fd4-3f5e88286504",
   "metadata": {},
   "outputs": [
    {
     "name": "stdout",
     "output_type": "stream",
     "text": [
      "(('Checkout', 14),)\n"
     ]
    }
   ],
   "source": [
    "### Find at which stage most customers drop off in their journey\n",
    "dropoff_query=\"\"\"\n",
    "Select Stage,Count(*) as Dropoff_count\n",
    "from customer_journey\n",
    "where Action='Drop-off'\n",
    "group by Stage\n",
    "order by Dropoff_count desc;\n",
    "\"\"\"\n",
    "cursor.execute(dropoff_query)\n",
    "dropoff_results=cursor.fetchall()\n",
    "print(dropoff_results)"
   ]
  },
  {
   "cell_type": "code",
   "execution_count": 121,
   "id": "506041ea-e719-4b5c-8d8a-a645cad8cbc6",
   "metadata": {},
   "outputs": [
    {
     "name": "stdout",
     "output_type": "stream",
     "text": [
      " $$$ Most Customer Dropoff Stage:\n",
      "       Stage  Dropoff_Counts\n",
      "0  Checkout              14\n"
     ]
    }
   ],
   "source": [
    "df_Dropoff_Stage=pd.DataFrame(dropoff_results,columns=['Stage','Dropoff_Counts'])\n",
    "print(\" $$$ Most Customer Dropoff Stage:\\n\",df_Dropoff_Stage)"
   ]
  },
  {
   "cell_type": "markdown",
   "id": "f7e609f4-09c4-4619-bba1-cac76104c915",
   "metadata": {},
   "source": [
    "### Most Customer are dropoff their journey in the checkout stage,\n",
    "### so we need to improve our payment option in the checkout stage. "
   ]
  },
  {
   "cell_type": "markdown",
   "id": "24c13de1-79be-4823-8f40-071ac89a6029",
   "metadata": {},
   "source": [
    "### 3.Customer Review Analysis"
   ]
  },
  {
   "cell_type": "markdown",
   "id": "728644e1-b523-46e8-9c0a-6578ebaf4bfe",
   "metadata": {},
   "source": [
    "### #how do cusotmer reviews impact purchasing behavior?"
   ]
  },
  {
   "cell_type": "code",
   "execution_count": 222,
   "id": "87408f1b-9690-4bf4-8b35-281af25b49f4",
   "metadata": {},
   "outputs": [
    {
     "name": "stdout",
     "output_type": "stream",
     "text": [
      "(('Climbing Rope', Decimal('4.00'), 6, 2), ('Surfboard', Decimal('3.89'), 9, 2), ('Fitness Tracker', Decimal('3.57'), 7, 1), ('Kayak', Decimal('3.40'), 10, 1), ('Baseball Glove', Decimal('3.40'), 5, 0), ('Basketball', Decimal('2.67'), 3, 0), ('Boxing Gloves', Decimal('4.00'), 2, 0), ('Cycling Helmet', None, 0, 0), ('Dumbbells', Decimal('3.00'), 5, 0), ('Football Helmet', Decimal('5.00'), 3, 0), ('Golf Clubs', Decimal('3.50'), 4, 0), ('Hockey Stick', Decimal('4.40'), 5, 0), ('Ice Skates', Decimal('3.00'), 2, 0), ('Running Shoes', Decimal('4.00'), 4, 0), ('Ski Boots', Decimal('4.00'), 6, 0), ('Soccer Ball', Decimal('4.00'), 3, 0), ('Swim Goggles', Decimal('3.67'), 9, 0), ('Tennis Racket', Decimal('3.86'), 7, 0), ('Volleyball', Decimal('4.00'), 3, 0), ('Yoga Mat', Decimal('3.71'), 7, 0))\n"
     ]
    }
   ],
   "source": [
    "review_query=\"\"\"\n",
    "SELECT \n",
    "    p.ProductName, \n",
    "    ROUND(AVG(cr.Rating), 2) AS AvgRating, \n",
    "    COUNT(DISTINCT cr.ReviewID) AS ReviewCount,\n",
    "    COUNT(DISTINCT CASE WHEN cj.Action = 'Purchase' THEN cj.CustomerID END) AS PurchaseCount\n",
    "FROM products AS p \n",
    "LEFT JOIN customer_reviews AS cr ON p.ProductID = cr.ProductID\n",
    "LEFT JOIN customer_journey AS cj ON p.ProductID = cj.ProductID\n",
    "GROUP BY p.ProductName\n",
    "ORDER BY PurchaseCount DESC;\n",
    "\"\"\"\n",
    "cursor.execute(review_query)\n",
    "result=cursor.fetchall()\n",
    "print(result)"
   ]
  },
  {
   "cell_type": "code",
   "execution_count": 223,
   "id": "864a9701-9377-4d65-bc49-54b5048eecca",
   "metadata": {},
   "outputs": [
    {
     "name": "stdout",
     "output_type": "stream",
     "text": [
      " Customer Reviews Impact on Purchasing:\n",
      "         ProductName AvgRating  ReviewCount  PurchaseCount\n",
      "0     Climbing Rope      4.00            6              2\n",
      "1         Surfboard      3.89            9              2\n",
      "2   Fitness Tracker      3.57            7              1\n",
      "3             Kayak      3.40           10              1\n",
      "4    Baseball Glove      3.40            5              0\n",
      "5        Basketball      2.67            3              0\n",
      "6     Boxing Gloves      4.00            2              0\n",
      "7    Cycling Helmet      None            0              0\n",
      "8         Dumbbells      3.00            5              0\n",
      "9   Football Helmet      5.00            3              0\n",
      "10       Golf Clubs      3.50            4              0\n",
      "11     Hockey Stick      4.40            5              0\n",
      "12       Ice Skates      3.00            2              0\n",
      "13    Running Shoes      4.00            4              0\n",
      "14        Ski Boots      4.00            6              0\n",
      "15      Soccer Ball      4.00            3              0\n",
      "16     Swim Goggles      3.67            9              0\n",
      "17    Tennis Racket      3.86            7              0\n",
      "18       Volleyball      4.00            3              0\n",
      "19         Yoga Mat      3.71            7              0\n"
     ]
    }
   ],
   "source": [
    "df_reviews=pd.DataFrame(result,columns=['ProductName','AvgRating','ReviewCount','PurchaseCount'])\n",
    "print(\" Customer Reviews Impact on Purchasing:\\n\",df_reviews)"
   ]
  },
  {
   "cell_type": "markdown",
   "id": "a379660d-d05b-4b28-9096-9f8bead833ba",
   "metadata": {},
   "source": [
    "### Customer Reviews Impact on purchasig Result shows that both Cusomer Reviews and Rating will impact on purchase ."
   ]
  },
  {
   "cell_type": "markdown",
   "id": "21087f03-285b-4535-9759-e84d8bab5759",
   "metadata": {},
   "source": [
    "### #Identifying top performing products,location and customer segments\n",
    "\n"
   ]
  },
  {
   "cell_type": "markdown",
   "id": "9894e1df-658c-460f-9d45-44124655f096",
   "metadata": {},
   "source": [
    "### #1.Find top-selling products.\n"
   ]
  },
  {
   "cell_type": "code",
   "execution_count": 150,
   "id": "7cc323e2-ebe8-4470-89d3-cff2545aa44d",
   "metadata": {},
   "outputs": [
    {
     "name": "stdout",
     "output_type": "stream",
     "text": [
      "(('Surfboard', 2), ('Climbing Rope', 2), ('Fitness Tracker', 1), ('Kayak', 1))\n"
     ]
    }
   ],
   "source": [
    "query=\"\"\"\n",
    "Select p.ProductName,Count(cj.CustomerID) as TotalPurchase\n",
    "from customer_journey as cj\n",
    "join products as p on cj.ProductID=p.ProductID\n",
    "join customer as c on cj.CustomerID=c.CustomerID\n",
    "where cj.Action='Purchase'\n",
    "group by p.ProductName\n",
    "order by TotalPurchase desc;\n",
    "\"\"\"\n",
    "cursor.execute(query)\n",
    "topProducts=cursor.fetchall()\n",
    "print(topProducts)"
   ]
  },
  {
   "cell_type": "code",
   "execution_count": 151,
   "id": "a4dac45c-2f1b-4456-bcdb-5a72f0c23f72",
   "metadata": {},
   "outputs": [
    {
     "name": "stdout",
     "output_type": "stream",
     "text": [
      "Top Selling Products per Country:\n",
      "        ProductName  TotalPurchase\n",
      "0        Surfboard              2\n",
      "1    Climbing Rope              2\n",
      "2  Fitness Tracker              1\n",
      "3            Kayak              1\n"
     ]
    }
   ],
   "source": [
    "df_topProducts=pd.DataFrame(topProducts,columns=['ProductName','TotalPurchase'])\n",
    "print(\"Top Selling Products per Country:\\n\",df_topProducts)"
   ]
  },
  {
   "cell_type": "markdown",
   "id": "c4397373-b121-468b-94f8-2707fb2d6fc6",
   "metadata": {},
   "source": [
    "### $ In this Surfboard and Climibing Rope are the top selling best products compared to other."
   ]
  },
  {
   "cell_type": "markdown",
   "id": "67132a17-b479-4e87-85a3-a170dfc92c02",
   "metadata": {},
   "source": [
    "### #2.Finding Best Performing location "
   ]
  },
  {
   "cell_type": "code",
   "execution_count": 134,
   "id": "46b5a2c1-e0df-439a-ba32-83390d15ebfd",
   "metadata": {},
   "outputs": [
    {
     "name": "stdout",
     "output_type": "stream",
     "text": [
      "(('Germany', 'Berlin', 1), ('UK', 'London', 1), ('Spain', 'Madrid', 1), ('Sweden', 'Stockholm', 1), ('Netherlands', 'Amsterdam', 1), ('Austria', 'Vienna', 1))\n"
     ]
    }
   ],
   "source": [
    "location_query=\"\"\"\n",
    "Select g.Country,g.City,Count(cj.CustomerID) as TotalPurchase\n",
    "from geography as g \n",
    "join customer as c on c.GeographyID=g.GeographyID\n",
    "join customer_journey as cj on c.CustomerID=cj.CustomerID\n",
    "where cj.Action='Purchase'\n",
    "group by g.Country,g.City\n",
    "order by TotalPurchase desc;\n",
    "\"\"\"\n",
    "cursor.execute(location_query)\n",
    "locResults=cursor.fetchall()\n",
    "print(locResults)"
   ]
  },
  {
   "cell_type": "code",
   "execution_count": 136,
   "id": "d079cdff-8fd6-4ac9-bd57-7991406150d5",
   "metadata": {},
   "outputs": [
    {
     "name": "stdout",
     "output_type": "stream",
     "text": [
      "BEST PERFORMING LOCATION:\n",
      "        Country       City  TotalPurchase\n",
      "0      Germany     Berlin              1\n",
      "1           UK     London              1\n",
      "2        Spain     Madrid              1\n",
      "3       Sweden  Stockholm              1\n",
      "4  Netherlands  Amsterdam              1\n",
      "5      Austria     Vienna              1\n"
     ]
    }
   ],
   "source": [
    "df_locResult=pd.DataFrame(locResults,columns=['Country','City','TotalPurchase'])\n",
    "print(\"BEST PERFORMING LOCATION:\\n\", df_locResult)"
   ]
  },
  {
   "cell_type": "markdown",
   "id": "7a244f61-14b5-4eea-9310-d473dd28c117",
   "metadata": {},
   "source": [
    "### $ In this dont have one particular best performing country .\n"
   ]
  },
  {
   "cell_type": "markdown",
   "id": "9734dcb2-fd5e-4b77-8955-8a119ca334af",
   "metadata": {},
   "source": [
    "### #3.Best performing Customer Segment based on Age and Gender."
   ]
  },
  {
   "cell_type": "code",
   "execution_count": 141,
   "id": "3e80d117-b547-4fbb-a5f3-5c1f7b1825e0",
   "metadata": {},
   "outputs": [
    {
     "name": "stdout",
     "output_type": "stream",
     "text": [
      "(('Female', '46+', 2), ('Male', '46+', 1), ('Male', '26-35', 1), ('Female', '26-35', 1), ('Male', '18-25', 1))\n"
     ]
    }
   ],
   "source": [
    "customer_query=\"\"\"\n",
    "SELECT \n",
    "c.Gender, \n",
    "CASE \n",
    "\tWHEN c.Age BETWEEN 18 AND 25 THEN '18-25'\n",
    "\tWHEN c.Age BETWEEN 26 AND 35 THEN '26-35'\n",
    "\tWHEN c.Age BETWEEN 36 AND 45 THEN '36-45'\n",
    "\tELSE '46+' \n",
    "END AS Age_Group,\n",
    "COUNT(cj.CustomerID) AS Total_Purchases\n",
    "FROM customer_journey as cj\n",
    "JOIN customer as c ON cj.CustomerID = c.CustomerID\n",
    "WHERE cj.Action = 'Purchase'\n",
    "GROUP BY c.Gender, Age_Group\n",
    "ORDER BY Total_Purchases DESC;\n",
    "\"\"\"\n",
    "cursor.execute(customer_query)\n",
    "cusResults=cursor.fetchall()\n",
    "print(cusResults)"
   ]
  },
  {
   "cell_type": "code",
   "execution_count": 142,
   "id": "89c03846-edf0-4598-84a8-1f60c578279f",
   "metadata": {},
   "outputs": [
    {
     "name": "stdout",
     "output_type": "stream",
     "text": [
      "Best Performing Customer based on Gender & Age:\n",
      "    Gender AgeGroup  TotalPurchase\n",
      "0  Female      46+              2\n",
      "1    Male      46+              1\n",
      "2    Male    26-35              1\n",
      "3  Female    26-35              1\n",
      "4    Male    18-25              1\n"
     ]
    }
   ],
   "source": [
    "df_customerSegment=pd.DataFrame(cusResults,columns=['Gender','AgeGroup','TotalPurchase'])\n",
    "print(\"Best Performing Customer based on Gender & Age:\\n\",df_customerSegment)"
   ]
  },
  {
   "cell_type": "markdown",
   "id": "b5c571f1-366b-4c50-ae6e-f2ec3b72aa70",
   "metadata": {},
   "source": [
    "### $ 46+ Agegroup Female is the best performing group."
   ]
  },
  {
   "cell_type": "markdown",
   "id": "1ba2602a-b970-4e4f-b553-8280cdc46f45",
   "metadata": {},
   "source": [
    "### ###1.Customer Journey & Engagement Analysis"
   ]
  },
  {
   "cell_type": "code",
   "execution_count": 154,
   "id": "9aee6054-de16-41f6-a687-482f2cf0e7a0",
   "metadata": {},
   "outputs": [],
   "source": [
    "### $1. Identify Common Actions Leading to Successful Conversions"
   ]
  },
  {
   "cell_type": "code",
   "execution_count": 159,
   "id": "5f9a2ae4-c018-47f1-870f-ab5a3c7c9451",
   "metadata": {},
   "outputs": [
    {
     "name": "stdout",
     "output_type": "stream",
     "text": [
      "(('Homepage', 'View', 37), ('ProductPage', 'View', 21), ('Homepage', 'Click', 17), ('Checkout', 'Purchase', 6), ('ProductPage', 'Click', 5))\n"
     ]
    }
   ],
   "source": [
    "cj_query=\"\"\"\n",
    "SELECT cj.Stage, cj.Action, COUNT(*) AS ActionFrequency\n",
    "FROM customer_journey as cj\n",
    "WHERE cj.Action Not IN('drop-off') \n",
    "GROUP BY cj.Stage, cj.Action\n",
    "ORDER BY ActionFrequency DESC;\n",
    "\"\"\"\n",
    "cursor.execute(cj_query)\n",
    "cjResult=cursor.fetchall()\n",
    "print(cjResult)"
   ]
  },
  {
   "cell_type": "code",
   "execution_count": 163,
   "id": "0ea65fa0-d506-465b-b8d3-8cbb0384a2e8",
   "metadata": {},
   "outputs": [
    {
     "name": "stdout",
     "output_type": "stream",
     "text": [
      " Customer Journey Analysis:\n",
      "          Stage    Action  ActionFrequency\n",
      "0     Homepage      View               37\n",
      "1  ProductPage      View               21\n",
      "2     Homepage     Click               17\n",
      "3     Checkout  Purchase                6\n",
      "4  ProductPage     Click                5\n"
     ]
    }
   ],
   "source": [
    "cjResult=pd.DataFrame(cjResult,columns=['Stage','Action','ActionFrequency'])\n",
    "print(\" Customer Journey Analysis:\\n\", cjResult)"
   ]
  },
  {
   "cell_type": "markdown",
   "id": "a3f33759-784a-4452-a940-b09c5b3fc33a",
   "metadata": {},
   "source": [
    "### $In this Above Result, It shows that only 6 members purchase after reaching checkout page ,Maximum customers are in Homepage & Products Page."
   ]
  },
  {
   "cell_type": "code",
   "execution_count": 166,
   "id": "2179e680-2790-492f-9e55-c4132017e274",
   "metadata": {},
   "outputs": [],
   "source": [
    "### #2.Calculate average duration per stage for engagement insights."
   ]
  },
  {
   "cell_type": "code",
   "execution_count": 167,
   "id": "14d6faa4-4dbb-4951-bbe0-0a324f4c1527",
   "metadata": {},
   "outputs": [
    {
     "name": "stdout",
     "output_type": "stream",
     "text": [
      "(('ProductPage', 182.76923076923077), ('Checkout', 161.62441711425782), ('Homepage', 160.53703703703704))\n"
     ]
    }
   ],
   "source": [
    "time_query=\"\"\"\n",
    "SELECT Stage, \n",
    "AVG(Duration) AS AvgDuration\n",
    "FROM customer_journey\n",
    "GROUP BY Stage\n",
    "ORDER BY AvgDuration DESC;\n",
    "\"\"\"\n",
    "cursor.execute(time_query)\n",
    "avgtime=cursor.fetchall()\n",
    "print(avgtime)"
   ]
  },
  {
   "cell_type": "code",
   "execution_count": 168,
   "id": "aa30da66-02d7-49bd-907f-9e344d45177e",
   "metadata": {},
   "outputs": [
    {
     "name": "stdout",
     "output_type": "stream",
     "text": [
      "Avg Duration per Stage:\n",
      "          Stage  AvgDuration\n",
      "0  ProductPage   182.769231\n",
      "1     Checkout   161.624417\n",
      "2     Homepage   160.537037\n"
     ]
    }
   ],
   "source": [
    "df_AvgTimeResult=pd.DataFrame(avgtime,columns=['Stage','AvgDuration'])\n",
    "print(\"Avg Duration per Stage:\\n\",df_AvgTimeResult)"
   ]
  },
  {
   "cell_type": "markdown",
   "id": "593a33b5-c1d9-4fe1-a56b-197384fc30b7",
   "metadata": {},
   "source": [
    "### Customer maximum spent their time at Product Page.\n",
    "### Customers take the longest time here, indicating they need more confidence before purchasing."
   ]
  },
  {
   "cell_type": "markdown",
   "id": "7d9c40db-dc94-4798-929f-ab40322edf18",
   "metadata": {},
   "source": [
    "### ### 2.Customer Review Analysis"
   ]
  },
  {
   "cell_type": "code",
   "execution_count": 183,
   "id": "38883efe-ae42-4534-bf5d-8222db9fdfc8",
   "metadata": {},
   "outputs": [
    {
     "name": "stdout",
     "output_type": "stream",
     "text": [
      "(('Football Helmet', Decimal('5.00'), 3), ('Hockey Stick', Decimal('4.40'), 5), ('Climbing Rope', Decimal('4.00'), 6), ('Ski Boots', Decimal('4.00'), 6), ('Running Shoes', Decimal('4.00'), 4), ('Volleyball', Decimal('4.00'), 3), ('Soccer Ball', Decimal('4.00'), 3), ('Boxing Gloves', Decimal('4.00'), 2), ('Surfboard', Decimal('3.89'), 9), ('Tennis Racket', Decimal('3.86'), 7), ('Yoga Mat', Decimal('3.71'), 7), ('Swim Goggles', Decimal('3.67'), 9), ('Fitness Tracker', Decimal('3.57'), 7), ('Golf Clubs', Decimal('3.50'), 4), ('Kayak', Decimal('3.40'), 10), ('Baseball Glove', Decimal('3.40'), 5), ('Dumbbells', Decimal('3.00'), 5), ('Ice Skates', Decimal('3.00'), 2), ('Basketball', Decimal('2.67'), 3))\n"
     ]
    }
   ],
   "source": [
    "ratedP_query=\"\"\"\n",
    "SELECT p.ProductName, ROUND(AVG(cr.Rating), 2) AS AvgRating, COUNT(cr.ReviewID) AS TotalReviews\n",
    "FROM customer_reviews cr\n",
    "JOIN products p ON cr.ProductID = p.ProductID\n",
    "GROUP BY p.ProductName\n",
    "ORDER BY AvgRating DESC, TotalReviews DESC;\n",
    "\"\"\"\n",
    "cursor.execute(ratedP_query)\n",
    "rated_products=cursor.fetchall()\n",
    "print(rated_products)"
   ]
  },
  {
   "cell_type": "code",
   "execution_count": 230,
   "id": "1a1104f1-6342-4788-befd-b094dd066b03",
   "metadata": {},
   "outputs": [
    {
     "name": "stdout",
     "output_type": "stream",
     "text": [
      "Products Rating List:\n",
      "         ProductName Rating  TotalReviews\n",
      "0   Football Helmet   5.00             3\n",
      "1      Hockey Stick   4.40             5\n",
      "2     Climbing Rope   4.00             6\n",
      "3         Ski Boots   4.00             6\n",
      "4     Running Shoes   4.00             4\n",
      "5        Volleyball   4.00             3\n",
      "6       Soccer Ball   4.00             3\n",
      "7     Boxing Gloves   4.00             2\n",
      "8         Surfboard   3.89             9\n",
      "9     Tennis Racket   3.86             7\n",
      "10         Yoga Mat   3.71             7\n",
      "11     Swim Goggles   3.67             9\n",
      "12  Fitness Tracker   3.57             7\n",
      "13       Golf Clubs   3.50             4\n",
      "14            Kayak   3.40            10\n",
      "15   Baseball Glove   3.40             5\n",
      "16        Dumbbells   3.00             5\n",
      "17       Ice Skates   3.00             2\n",
      "18       Basketball   2.67             3\n"
     ]
    }
   ],
   "source": [
    "df_RatedProducts=pd.DataFrame(rated_products,columns=['ProductName','Rating','TotalReviews'])\n",
    "print(\"Products Rating List:\\n\",df_RatedProducts)"
   ]
  },
  {
   "cell_type": "markdown",
   "id": "a14284a7-13e0-492f-b514-8e2dd484f35e",
   "metadata": {},
   "source": [
    "### $In the Product Rating List ,Football Helmet is the Highest Rated Products and basket ball is the lowest rated product."
   ]
  },
  {
   "cell_type": "markdown",
   "id": "cb908057-cf11-4daa-91bb-1c6a284a0abb",
   "metadata": {},
   "source": [
    "### ###3.Marketing Effectiveness"
   ]
  },
  {
   "cell_type": "code",
   "execution_count": 232,
   "id": "c73b3ab7-67e2-46b7-87ca-a364de054360",
   "metadata": {},
   "outputs": [],
   "source": [
    "### Find Repeat Customers"
   ]
  },
  {
   "cell_type": "code",
   "execution_count": 237,
   "id": "0e22f50d-1225-4923-aadc-056fe366e579",
   "metadata": {},
   "outputs": [
    {
     "name": "stdout",
     "output_type": "stream",
     "text": [
      "()\n"
     ]
    }
   ],
   "source": [
    "repeatC_query=\"\"\"\n",
    "SELECT c.CustomerID, c.CustomerName, COUNT(cj.Action) AS TotalPurchases\n",
    "FROM customer AS c\n",
    "JOIN customer_journey AS cj ON c.CustomerID = cj.CustomerID\n",
    "WHERE cj.Action = 'Purchase'\n",
    "GROUP BY c.CustomerID, c.CustomerName\n",
    "HAVING TotalPurchases >1\n",
    "ORDER BY TotalPurchases DESC;\n",
    "\"\"\"\n",
    "cursor.execute(repeatC_query)\n",
    "repeatCustomer=cursor.fetchall()\n",
    "print(repeatCustomer)"
   ]
  },
  {
   "cell_type": "markdown",
   "id": "d0fb2706-0a32-41ca-9b2d-4d22231d609e",
   "metadata": {},
   "source": [
    "### $ Above Result shows that ShopEasy dont have Repeat Customers and all the customers are first time buyers."
   ]
  },
  {
   "cell_type": "markdown",
   "id": "2b05f070-ce13-4813-b211-333eb6a09e5c",
   "metadata": {},
   "source": [
    "### So Customer Retention Rate  is 0%."
   ]
  },
  {
   "cell_type": "markdown",
   "id": "abf3190c-6da4-401f-9e39-d5357caa5245",
   "metadata": {},
   "source": [
    "### ShopEasy Customer Behavior Analysis Project\n",
    "### Key Takeaways:\n",
    "* Optimize video and blog content to maintain high engagement.\n",
    "* Improve the checkout process to reduce drop-offs.\n",
    "* Encourage more customer reviews to drive sales.\n",
    "* Focus on best-selling products & high-performing customer segments.\n",
    "* Implement a retention strategy to convert first-time buyers into loyal customers."
   ]
  },
  {
   "cell_type": "code",
   "execution_count": null,
   "id": "01aea7c3-2287-4b16-bc10-46bc712d8520",
   "metadata": {},
   "outputs": [],
   "source": []
  }
 ],
 "metadata": {
  "kernelspec": {
   "display_name": "Python 3 (ipykernel)",
   "language": "python",
   "name": "python3"
  },
  "language_info": {
   "codemirror_mode": {
    "name": "ipython",
    "version": 3
   },
   "file_extension": ".py",
   "mimetype": "text/x-python",
   "name": "python",
   "nbconvert_exporter": "python",
   "pygments_lexer": "ipython3",
   "version": "3.12.4"
  }
 },
 "nbformat": 4,
 "nbformat_minor": 5
}
